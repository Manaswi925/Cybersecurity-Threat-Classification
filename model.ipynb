{
 "cells": [
  {
   "cell_type": "code",
   "execution_count": 12,
   "id": "a455c013-5cb1-4998-bd29-2f427d96332c",
   "metadata": {},
   "outputs": [
    {
     "name": "stdout",
     "output_type": "stream",
     "text": [
      "Collecting plotly\n",
      "  Downloading plotly-6.0.1-py3-none-any.whl.metadata (6.7 kB)\n",
      "Collecting narwhals>=1.15.1 (from plotly)\n",
      "  Downloading narwhals-1.32.0-py3-none-any.whl.metadata (9.2 kB)\n",
      "Requirement already satisfied: packaging in d:\\proj\\ml\\venv\\lib\\site-packages (from plotly) (24.2)\n",
      "Downloading plotly-6.0.1-py3-none-any.whl (14.8 MB)\n",
      "   ---------------------------------------- 0.0/14.8 MB ? eta -:--:--\n",
      "   --- ------------------------------------ 1.3/14.8 MB 9.8 MB/s eta 0:00:02\n",
      "   ------- -------------------------------- 2.9/14.8 MB 7.7 MB/s eta 0:00:02\n",
      "   ----------- ---------------------------- 4.2/14.8 MB 6.8 MB/s eta 0:00:02\n",
      "   -------------- ------------------------- 5.5/14.8 MB 6.7 MB/s eta 0:00:02\n",
      "   ------------------ --------------------- 6.8/14.8 MB 6.6 MB/s eta 0:00:02\n",
      "   --------------------- ------------------ 7.9/14.8 MB 6.4 MB/s eta 0:00:02\n",
      "   ---------------------- ----------------- 8.4/14.8 MB 5.9 MB/s eta 0:00:02\n",
      "   ------------------------ --------------- 8.9/14.8 MB 5.5 MB/s eta 0:00:02\n",
      "   ------------------------- -------------- 9.4/14.8 MB 5.1 MB/s eta 0:00:02\n",
      "   -------------------------- ------------- 10.0/14.8 MB 4.8 MB/s eta 0:00:02\n",
      "   ---------------------------- ----------- 10.5/14.8 MB 4.6 MB/s eta 0:00:01\n",
      "   ------------------------------ --------- 11.3/14.8 MB 4.5 MB/s eta 0:00:01\n",
      "   -------------------------------- ------- 12.1/14.8 MB 4.5 MB/s eta 0:00:01\n",
      "   ---------------------------------- ----- 12.8/14.8 MB 4.4 MB/s eta 0:00:01\n",
      "   ------------------------------------ --- 13.6/14.8 MB 4.4 MB/s eta 0:00:01\n",
      "   ---------------------------------------  14.7/14.8 MB 4.5 MB/s eta 0:00:01\n",
      "   ---------------------------------------- 14.8/14.8 MB 4.4 MB/s eta 0:00:00\n",
      "Downloading narwhals-1.32.0-py3-none-any.whl (320 kB)\n",
      "Installing collected packages: narwhals, plotly\n",
      "Successfully installed narwhals-1.32.0 plotly-6.0.1\n"
     ]
    }
   ],
   "source": [
    "!pip install plotly"
   ]
  },
  {
   "cell_type": "code",
   "execution_count": 14,
   "id": "70a4d0e2-1bbf-456c-9741-37e283c47339",
   "metadata": {},
   "outputs": [
    {
     "ename": "OptionError",
     "evalue": "Pattern matched multiple keys",
     "output_type": "error",
     "traceback": [
      "\u001b[31m---------------------------------------------------------------------------\u001b[39m",
      "\u001b[31mOptionError\u001b[39m                               Traceback (most recent call last)",
      "\u001b[36mCell\u001b[39m\u001b[36m \u001b[39m\u001b[32mIn[14]\u001b[39m\u001b[32m, line 17\u001b[39m\n\u001b[32m     15\u001b[39m \u001b[38;5;66;03m# Configuration\u001b[39;00m\n\u001b[32m     16\u001b[39m warnings.simplefilter(\u001b[33m'\u001b[39m\u001b[33mignore\u001b[39m\u001b[33m'\u001b[39m)\n\u001b[32m---> \u001b[39m\u001b[32m17\u001b[39m \u001b[43mpd\u001b[49m\u001b[43m.\u001b[49m\u001b[43mset_option\u001b[49m\u001b[43m(\u001b[49m\u001b[33;43m'\u001b[39;49m\u001b[33;43mmax_columns\u001b[39;49m\u001b[33;43m'\u001b[39;49m\u001b[43m,\u001b[49m\u001b[43m \u001b[49m\u001b[32;43m50\u001b[39;49m\u001b[43m)\u001b[49m\n",
      "\u001b[36mFile \u001b[39m\u001b[32mD:\\proj\\ml\\venv\\Lib\\site-packages\\pandas\\_config\\config.py:274\u001b[39m, in \u001b[36mCallableDynamicDoc.__call__\u001b[39m\u001b[34m(self, *args, **kwds)\u001b[39m\n\u001b[32m    273\u001b[39m \u001b[38;5;28;01mdef\u001b[39;00m\u001b[38;5;250m \u001b[39m\u001b[34m__call__\u001b[39m(\u001b[38;5;28mself\u001b[39m, *args, **kwds) -> T:\n\u001b[32m--> \u001b[39m\u001b[32m274\u001b[39m     \u001b[38;5;28;01mreturn\u001b[39;00m \u001b[38;5;28;43mself\u001b[39;49m\u001b[43m.\u001b[49m\u001b[34;43m__func__\u001b[39;49m\u001b[43m(\u001b[49m\u001b[43m*\u001b[49m\u001b[43margs\u001b[49m\u001b[43m,\u001b[49m\u001b[43m \u001b[49m\u001b[43m*\u001b[49m\u001b[43m*\u001b[49m\u001b[43mkwds\u001b[49m\u001b[43m)\u001b[49m\n",
      "\u001b[36mFile \u001b[39m\u001b[32mD:\\proj\\ml\\venv\\Lib\\site-packages\\pandas\\_config\\config.py:167\u001b[39m, in \u001b[36m_set_option\u001b[39m\u001b[34m(*args, **kwargs)\u001b[39m\n\u001b[32m    164\u001b[39m     \u001b[38;5;28;01mraise\u001b[39;00m \u001b[38;5;167;01mTypeError\u001b[39;00m(\u001b[33mf\u001b[39m\u001b[33m'\u001b[39m\u001b[33m_set_option() got an unexpected keyword argument \u001b[39m\u001b[33m\"\u001b[39m\u001b[38;5;132;01m{\u001b[39;00mkwarg\u001b[38;5;132;01m}\u001b[39;00m\u001b[33m\"\u001b[39m\u001b[33m'\u001b[39m)\n\u001b[32m    166\u001b[39m \u001b[38;5;28;01mfor\u001b[39;00m k, v \u001b[38;5;129;01min\u001b[39;00m \u001b[38;5;28mzip\u001b[39m(args[::\u001b[32m2\u001b[39m], args[\u001b[32m1\u001b[39m::\u001b[32m2\u001b[39m]):\n\u001b[32m--> \u001b[39m\u001b[32m167\u001b[39m     key = \u001b[43m_get_single_key\u001b[49m\u001b[43m(\u001b[49m\u001b[43mk\u001b[49m\u001b[43m,\u001b[49m\u001b[43m \u001b[49m\u001b[43msilent\u001b[49m\u001b[43m)\u001b[49m\n\u001b[32m    169\u001b[39m     o = _get_registered_option(key)\n\u001b[32m    170\u001b[39m     \u001b[38;5;28;01mif\u001b[39;00m o \u001b[38;5;129;01mand\u001b[39;00m o.validator:\n",
      "\u001b[36mFile \u001b[39m\u001b[32mD:\\proj\\ml\\venv\\Lib\\site-packages\\pandas\\_config\\config.py:134\u001b[39m, in \u001b[36m_get_single_key\u001b[39m\u001b[34m(pat, silent)\u001b[39m\n\u001b[32m    132\u001b[39m     \u001b[38;5;28;01mraise\u001b[39;00m OptionError(\u001b[33mf\u001b[39m\u001b[33m\"\u001b[39m\u001b[33mNo such keys(s): \u001b[39m\u001b[38;5;132;01m{\u001b[39;00m\u001b[38;5;28mrepr\u001b[39m(pat)\u001b[38;5;132;01m}\u001b[39;00m\u001b[33m\"\u001b[39m)\n\u001b[32m    133\u001b[39m \u001b[38;5;28;01mif\u001b[39;00m \u001b[38;5;28mlen\u001b[39m(keys) > \u001b[32m1\u001b[39m:\n\u001b[32m--> \u001b[39m\u001b[32m134\u001b[39m     \u001b[38;5;28;01mraise\u001b[39;00m OptionError(\u001b[33m\"\u001b[39m\u001b[33mPattern matched multiple keys\u001b[39m\u001b[33m\"\u001b[39m)\n\u001b[32m    135\u001b[39m key = keys[\u001b[32m0\u001b[39m]\n\u001b[32m    137\u001b[39m \u001b[38;5;28;01mif\u001b[39;00m \u001b[38;5;129;01mnot\u001b[39;00m silent:\n",
      "\u001b[31mOptionError\u001b[39m: Pattern matched multiple keys"
     ]
    }
   ],
   "source": [
    "import os \n",
    "import warnings\n",
    "import gc\n",
    "\n",
    "import pandas as pd \n",
    "import numpy as np \n",
    "from plotly.subplots import make_subplots\n",
    "import plotly.express as px \n",
    "import plotly.graph_objects as go\n",
    "from sklearn.preprocessing import LabelEncoder\n",
    "from sklearn.model_selection import train_test_split, KFold\n",
    "from sklearn.ensemble import RandomForestClassifier\n",
    "from sklearn.metrics import precision_recall_fscore_support, classification_report\n",
    "\n",
    "# Configuration\n",
    "warnings.simplefilter('ignore')\n",
    "pd.set_option('max_columns', 50)"
   ]
  },
  {
   "cell_type": "code",
   "execution_count": 16,
   "id": "b648c08a-8715-41e3-b2d5-80762d693f4c",
   "metadata": {},
   "outputs": [],
   "source": [
    "# Variable definitions\n",
    "DATA_PATH = r\"C:\\Users\\manas\\Downloads\\Train_data.csv.zip\"\n",
    "# Utility functions \n",
    "def describe(df, stats):\n",
    "    '''Describe the basic information of the raw dataframe.\n",
    "    \n",
    "    Parameters:\n",
    "        df: pd.DataFrame, raw dataframe to be analyzed\n",
    "        stats: boolean, whether to get descriptive statistics \n",
    "    \n",
    "    Return:\n",
    "        None\n",
    "    '''\n",
    "    df_ = df.copy(deep=True)   # Copy of the raw dataframe\n",
    "    n_features = df_.shape[1]\n",
    "    if n_features > pd.get_option(\"max_columns\"):\n",
    "        # If the feature (column) number is greater than max number of columns displayed\n",
    "        warnings.warn(\"Please reset the display-related options max_columns \\\n",
    "                      to enable the complete display.\", \n",
    "                      UserWarning) \n",
    "    print(\"=====Basic information=====\")\n",
    "    display(df_.info())\n",
    "    get_nan_ratios(df_)\n",
    "    if stats:\n",
    "        print(\"=====Description=====\")\n",
    "        numeric_col_num = df_.select_dtypes(include=np.number).shape[1]   # Number of cols in numeric type\n",
    "        if numeric_col_num != 0:\n",
    "            display(df_.describe())\n",
    "        else:\n",
    "            print(\"There's no description of numeric data to display!\")\n",
    "    del df_\n",
    "    gc.collect()\n",
    "\n",
    "def get_nan_ratios(df):\n",
    "    df_ = df.copy()   # Copy of the raw dataframe\n",
    "    nan_ratios = df_.isnull().sum() / df_.shape[0] * 100   # Ratios of value nan in each column\n",
    "    nan_ratios = pd.DataFrame([df_.columns, nan_ratios]).T   # Take transpose \n",
    "    nan_ratios.columns = [\"Columns\", \"NaN ratios\"]\n",
    "    nan_ratios = nan_ratios[nan_ratios[\"NaN ratios\"] != 0.0]\n",
    "    print(\"=====NaN ratios of columns with NaN values=====\")\n",
    "    if len(nan_ratios) == 0:\n",
    "        print(\"There isn't any NaN value in the dataset!\")\n",
    "    else:\n",
    "        display(nan_ratios)\n",
    "    del df_\n",
    "    gc.collect()"
   ]
  },
  {
   "cell_type": "code",
   "execution_count": null,
   "id": "8da8dce6-18bc-4baa-b46f-de0d89868714",
   "metadata": {},
   "outputs": [],
   "source": []
  }
 ],
 "metadata": {
  "kernelspec": {
   "display_name": "Python 3 (ipykernel)",
   "language": "python",
   "name": "python3"
  },
  "language_info": {
   "codemirror_mode": {
    "name": "ipython",
    "version": 3
   },
   "file_extension": ".py",
   "mimetype": "text/x-python",
   "name": "python",
   "nbconvert_exporter": "python",
   "pygments_lexer": "ipython3",
   "version": "3.13.0"
  }
 },
 "nbformat": 4,
 "nbformat_minor": 5
}
